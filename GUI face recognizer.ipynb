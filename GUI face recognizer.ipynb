{
 "cells": [
  {
   "cell_type": "code",
   "execution_count": 3,
   "metadata": {},
   "outputs": [],
   "source": [
    "import tkinter as tk\n",
    "from tkinter import messagebox\n",
    "import cv2\n",
    "import os \n",
    "from PIL import Image \n",
    "import numpy as np "
   ]
  },
  {
   "cell_type": "code",
   "execution_count": 13,
   "metadata": {},
   "outputs": [],
   "source": [
    "window=tk.Tk()\n",
    "window.title(\"Facial Recognition System\")\n",
    "\n",
    "l1=tk.Label(window,text=\"Name\",font=(\"Algerian\",20))\n",
    "l1.grid(column=0, row=0)\n",
    "t1=tk.Entry(window,width=50,bd=5)\n",
    "t1.grid(column=1, row=0)\n",
    "\n",
    "l2=tk.Label(window,text=\"Age\",font=(\"Algerian\",20))\n",
    "l2.grid(column=0, row=1)\n",
    "t2=tk.Entry(window,width=50,bd=5)\n",
    "t2.grid(column=1, row=1)\n",
    "\n",
    "l3=tk.Label(window,text=\"Address\",font=(\"Algerian\",20))\n",
    "l3.grid(column=0, row=2)\n",
    "t3=tk.Entry(window,width=50,bd=5)\n",
    "t3.grid(column=1, row=2)\n",
    "\n",
    "b1=tk.Button(window,text=\"Trainig\",font=(\"Algerian\",20),bg='orange',fg='red')\n",
    "b1.grid(column=0, row=4)\n",
    "\n",
    "b2=tk.Button(window,text=\"Detect Face\",font=(\"Algerian\",20),bg='green',fg='white')\n",
    "b2.grid(column=1, row=4)\n",
    "\n",
    "b3=tk.Button(window,text=\"Generate Dataset\",font=(\"Algerian\",20),bg='pink',fg='black')\n",
    "b3.grid(column=2, row=4)\n",
    "\n",
    "window.geometry(\"800x200\")\n",
    "window.mainloop()"
   ]
  }
 ],
 "metadata": {
  "kernelspec": {
   "display_name": "Python 3",
   "language": "python",
   "name": "python3"
  },
  "language_info": {
   "codemirror_mode": {
    "name": "ipython",
    "version": 3
   },
   "file_extension": ".py",
   "mimetype": "text/x-python",
   "name": "python",
   "nbconvert_exporter": "python",
   "pygments_lexer": "ipython3",
   "version": "3.12.4"
  }
 },
 "nbformat": 4,
 "nbformat_minor": 2
}
