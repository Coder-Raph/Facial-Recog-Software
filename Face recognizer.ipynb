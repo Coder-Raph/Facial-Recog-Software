{
 "cells": [
  {
   "cell_type": "markdown",
   "id": "9991668c",
   "metadata": {},
   "source": [
    "# Facial Recognition Software"
   ]
  },
  {
   "cell_type": "code",
   "execution_count": null,
   "id": "46726275-d784-4c0d-9c9f-1b82545a4732",
   "metadata": {},
   "outputs": [],
   "source": [
    "#1. Generate dataset \n",
    "#2. Train the classifier and save it \n",
    "#3. Detect the face and name it if its already stored in our dataset"
   ]
  },
  {
   "cell_type": "markdown",
   "id": "767bc804-1ed4-43cb-9278-fa61be77e732",
   "metadata": {},
   "source": [
    "# Generate dataset"
   ]
  },
  {
   "cell_type": "code",
   "execution_count": null,
   "id": "09a269b2-c797-40b9-8512-4e24c0de0120",
   "metadata": {},
   "outputs": [],
   "source": [
    "import cv2\n",
    "import os\n",
    "import glob\n",
    "import numpy as np\n",
    "from PIL import Image"
   ]
  },
  {
   "cell_type": "code",
   "execution_count": null,
   "id": "4a178ecf",
   "metadata": {},
   "outputs": [],
   "source": [
    "def generate_dataset():\n",
    "    face_classifier = cv2.CascadeClassifier(\"haarcascade_frontalface_default.xml\")\n",
    "\n",
    "    def face_cropped(img):\n",
    "        gray = cv2.cvtColor(img, cv2.COLOR_BGR2GRAY)\n",
    "        faces = face_classifier.detectMultiScale(gray, 1.3, 5)\n",
    "\n",
    "        if len(faces) == 0:\n",
    "            return None\n",
    "        for (x, y, w, h) in faces:\n",
    "            cropped_face = img[y:y + h, x:x + w]\n",
    "        return cropped_face\n",
    "\n",
    "    cap = cv2.VideoCapture(0)\n",
    "    directory = \"data\"\n",
    "    if not os.path.exists(directory):  # Check if directory exists\n",
    "        os.makedirs(directory)  # Create directory if it doesn't exist\n",
    "\n",
    "    # Find the highest user ID in the filenames of the existing images\n",
    "    files = glob.glob(f\"{directory}/user_*.jpg\")\n",
    "    if files:\n",
    "        user_id = max(int(file.split('_')[1].split('.')[0]) for file in files)\n",
    "    else:\n",
    "        user_id = 0\n",
    "\n",
    "    user_id += 1  # Increment the user ID for the new images\n",
    "\n",
    "    images_generated = 0  # New variable to count the number of images generated\n",
    "\n",
    "    while True:\n",
    "        ret, frame = cap.read()\n",
    "        if face_cropped(frame) is not None:\n",
    "            images_generated += 1  # Increment the count each time an image is generated\n",
    "            face = cv2.resize(face_cropped(frame), (200, 200))\n",
    "            face = cv2.cvtColor(face, cv2.COLOR_BGR2GRAY)\n",
    "            file_name_path = os.path.join(directory, f\"user_{user_id}_{images_generated}.jpg\")\n",
    "            cv2.imwrite(file_name_path, face)\n",
    "            cv2.putText(face, str(images_generated), (50, 50), cv2.FONT_HERSHEY_COMPLEX, 1, (0, 255, 0), 2)\n",
    "\n",
    "            cv2.imshow(\"Cropped face\", face)\n",
    "            if cv2.waitKey(1) == 13 or images_generated == 50:  # Check if 50 images have been generated\n",
    "                break\n",
    "    cap.release()\n",
    "    cv2.destroyAllWindows()\n",
    "    print(f\"Collecting samples for user {user_id} is completed..............\")\n",
    "\n",
    "generate_dataset()"
   ]
  },
  {
   "cell_type": "markdown",
   "id": "ac205bb5",
   "metadata": {},
   "source": [
    "# Train the classifier and save it"
   ]
  },
  {
   "cell_type": "code",
   "execution_count": null,
   "id": "f7c18953",
   "metadata": {},
   "outputs": [],
   "source": [
    "import os \n",
    "import numpy as np\n",
    "from PIL import Image"
   ]
  },
  {
   "cell_type": "code",
   "execution_count": null,
   "id": "c8de193e",
   "metadata": {},
   "outputs": [],
   "source": [
    "def train_classifier(data_dir):\n",
    "    path = [os.path.join(data_dir, f) for f in os.listdir(data_dir)]\n",
    "    faces = []\n",
    "    ids = []\n",
    "\n",
    "    for image in path:\n",
    "        img = Image.open(image).convert('L')  # Convert image to grayscale\n",
    "        imageNp = np.array(img, 'uint8')        \n",
    "        \n",
    "        # Split filename and handle errors\n",
    "        id = os.path.split(image)[1].split('.')[1]  # Extract ID from filename\n",
    "\n",
    "        faces.append(imageNp)\n",
    "        ids.append(id)\n",
    "    ids = np.array(ids)\n",
    "    \n",
    "    #Tain the classifier and save\n",
    "    clf = cv2.face.LBPHFaceRecognizer_create()"
   ]
  }
 ],
 "metadata": {
  "kernelspec": {
   "display_name": "Python 3 (ipykernel)",
   "language": "python",
   "name": "python3"
  },
  "language_info": {
   "codemirror_mode": {
    "name": "ipython",
    "version": 3
   },
   "file_extension": ".py",
   "mimetype": "text/x-python",
   "name": "python",
   "nbconvert_exporter": "python",
   "pygments_lexer": "ipython3",
   "version": "3.12.4"
  }
 },
 "nbformat": 4,
 "nbformat_minor": 5
}
