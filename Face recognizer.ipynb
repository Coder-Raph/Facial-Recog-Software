{
 "cells": [
  {
   "cell_type": "markdown",
   "id": "9991668c",
   "metadata": {},
   "source": [
    "# Facial Recognition Software"
   ]
  },
  {
   "cell_type": "code",
   "execution_count": null,
   "id": "46726275-d784-4c0d-9c9f-1b82545a4732",
   "metadata": {},
   "outputs": [],
   "source": [
    "#1. Generate dataset \n",
    "#2. Train the classifier and save it \n",
    "#3. Detect the face and name it if its already stored in our dataset"
   ]
  },
  {
   "cell_type": "markdown",
   "id": "767bc804-1ed4-43cb-9278-fa61be77e732",
   "metadata": {},
   "source": [
    "# Generate dataset"
   ]
  },
  {
   "cell_type": "code",
   "execution_count": null,
   "id": "09a269b2-c797-40b9-8512-4e24c0de0120",
   "metadata": {},
   "outputs": [],
   "source": [
    "import cv2\n",
    "import os \n",
    "import numpy as np\n",
    "from PIL import Image"
   ]
  },
  {
   "cell_type": "code",
   "execution_count": null,
   "id": "94a3a2e1-bf22-438b-a3df-3a819b1bcbb0",
   "metadata": {},
   "outputs": [],
   "source": [
    "def generate_dataset():\n",
    "    face_classifier = cv2.CascadeClassifier(\"haarcascade_frontalface_default.xml\")\n",
    "\n",
    "    def face_cropped(img):\n",
    "        gray = cv2.cvtColor(img, cv2.COLOR_BGR2GRAY)\n",
    "        faces = face_classifier.detectMultiScale(gray, 1.3, 5)\n",
    "\n",
    "        if len(faces) == 0:\n",
    "            return None\n",
    "        for (x, y, w, h) in faces:\n",
    "            cropped_face = img[y:y + h, x:x + w]\n",
    "        return cropped_face\n",
    "\n",
    "    cap = cv2.VideoCapture(0)\n",
    "    img_id = 0\n",
    "\n",
    "    while True:\n",
    "        ret, frame = cap.read()\n",
    "        if face_cropped(frame) is not None:\n",
    "            img_id += 1\n",
    "            face = cv2.resize(face_cropped(frame), (200, 200))\n",
    "            face = cv2.cvtColor(face, cv2.COLOR_BGR2GRAY)\n",
    "            directory = \"data\"\n",
    "            if not os.path.exists(directory):  # Check if directory exists\n",
    "                os.makedirs(directory)  # Create directory if it doesn't exist\n",
    "            file_name_path = f\"{directory}/user_{img_id}.jpg\"\n",
    "            cv2.imwrite(file_name_path, face)\n",
    "            cv2.putText(face, str(img_id), (50, 50), cv2.FONT_HERSHEY_COMPLEX, 1, (0, 255, 0), 2)\n",
    "\n",
    "            cv2.imshow(\"Cropped face\", face)\n",
    "            if cv2.waitKey(1) == 13 or img_id == 50:\n",
    "                break\n",
    "    cap.release()\n",
    "    cv2.destroyAllWindows()\n",
    "    print(\"Collecting samples is completed..............\")\n",
    "\n",
    "generate_dataset()"
   ]
  },
  {
   "cell_type": "markdown",
   "id": "ac205bb5",
   "metadata": {},
   "source": [
    "# Train the classifier and save it"
   ]
  },
  {
   "cell_type": "code",
   "execution_count": null,
   "id": "c8de193e",
   "metadata": {},
   "outputs": [],
   "source": [
    "def train_classifier(data_dir):\n",
    "    path = [os.path.join(data_dir, f) for f in os.listdir(data_dir)]\n",
    "    faces = []\n",
    "    ids = []\n",
    "\n",
    "    for image in path:\n",
    "        img = Image.open(image).convert('L')  # Convert image to grayscale\n",
    "        image_np = np.array(img, 'uint8')\n",
    "        \n",
    "        # Split filename and handle errors\n",
    "        try:\n",
    "            id = int(os.path.split(image)[1].split('_')[1].split('.')[0])  # Extract ID from filename\n",
    "        except IndexError:\n",
    "            print(\"Error processing filename:\", image)\n",
    "            continue\n",
    "\n",
    "        faces.append(image_np)\n",
    "        ids.append(id)\n",
    "\n",
    "    # Define and initialize the classifier\n",
    "    clf = cv2.face.createLBPHFaceRecognizer()\n",
    "\n",
    "    # Train the classifier with faces and IDs\n",
    "    clf.train(faces, np.array(ids))\n",
    "\n",
    "    # Write the trained model to a file\n",
    "    clf.save(\"classifier.xml\")  # Save method instead of write\n",
    "\n",
    "train_classifier(\"data\")"
   ]
  }
 ],
 "metadata": {
  "kernelspec": {
   "display_name": "Python 3 (ipykernel)",
   "language": "python",
   "name": "python3"
  },
  "language_info": {
   "codemirror_mode": {
    "name": "ipython",
    "version": 3
   },
   "file_extension": ".py",
   "mimetype": "text/x-python",
   "name": "python",
   "nbconvert_exporter": "python",
   "pygments_lexer": "ipython3",
   "version": "3.12.2"
  }
 },
 "nbformat": 4,
 "nbformat_minor": 5
}
